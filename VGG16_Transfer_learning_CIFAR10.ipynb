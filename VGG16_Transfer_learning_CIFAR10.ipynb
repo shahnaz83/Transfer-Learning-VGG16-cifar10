{
  "cells": [
    {
      "cell_type": "markdown",
      "metadata": {
        "id": "view-in-github",
        "colab_type": "text"
      },
      "source": [
        "<a href=\"https://colab.research.google.com/github/shahnaz83/Transfer-Learning-VGG16-cifar10/blob/main/VGG16_Transfer_learning_CIFAR10.ipynb\" target=\"_parent\"><img src=\"https://colab.research.google.com/assets/colab-badge.svg\" alt=\"Open In Colab\"/></a>"
      ]
    },
    {
      "cell_type": "markdown",
      "source": [
        "## Transfer Learning"
      ],
      "metadata": {
        "id": "vgfS_jhhHkGh"
      },
      "id": "vgfS_jhhHkGh"
    },
    {
      "cell_type": "markdown",
      "metadata": {
        "id": "jKlCOoikGQKv"
      },
      "source": [
        "## Transfer Laerning\n",
        "\n",
        "In this notebook, we will perform transfer learning to train CIFAR-10 dataset on VGG16 model available in Keras\n",
        "\n"
      ],
      "id": "jKlCOoikGQKv"
    },
    {
      "cell_type": "code",
      "execution_count": 1,
      "metadata": {
        "id": "0eeaed11"
      },
      "outputs": [],
      "source": [
        "import tensorflow as tf\n",
        "from tensorflow import keras\n",
        "from sklearn.model_selection import train_test_split\n",
        "import matplotlib.pyplot as plt\n",
        "import numpy as np\n",
        "import matplotlib.pyplot as plt"
      ],
      "id": "0eeaed11"
    },
    {
      "cell_type": "markdown",
      "metadata": {
        "id": "nGA0MAfHG4vB"
      },
      "source": [
        "## Loading  Data\n",
        "[CIFAR-10](https://www.cs.toronto.edu/~kriz/cifar.html) dataset has 32 x 32 RGB images belonging to 10 classes. We will load the dataset from Keras.\n"
      ],
      "id": "nGA0MAfHG4vB"
    },
    {
      "cell_type": "code",
      "execution_count": 2,
      "metadata": {
        "id": "hoqOajTtHXDI"
      },
      "outputs": [],
      "source": [
        "\n",
        "classes = ['airplane', 'automobile', 'bird', 'cat', 'deer', 'dog', 'frog', 'horse', 'ship', 'truck']"
      ],
      "id": "hoqOajTtHXDI"
    },
    {
      "cell_type": "code",
      "execution_count": 3,
      "metadata": {
        "colab": {
          "base_uri": "https://localhost:8080/"
        },
        "id": "d43c1e1e",
        "outputId": "35806151-e2d3-4f0a-fbfb-2cf494e52aa2"
      },
      "outputs": [
        {
          "output_type": "stream",
          "name": "stdout",
          "text": [
            "Downloading data from https://www.cs.toronto.edu/~kriz/cifar-10-python.tar.gz\n",
            "170498071/170498071 [==============================] - 2s 0us/step\n"
          ]
        }
      ],
      "source": [
        "(x_train, y_train), (x_test, y_test) = keras.datasets.cifar10.load_data()"
      ],
      "id": "d43c1e1e"
    },
    {
      "cell_type": "code",
      "execution_count": 4,
      "metadata": {
        "colab": {
          "base_uri": "https://localhost:8080/"
        },
        "id": "8a5e7405",
        "outputId": "eeef58b7-2aae-47ea-8496-03be8f01e9c6"
      },
      "outputs": [
        {
          "output_type": "execute_result",
          "data": {
            "text/plain": [
              "(50000, 32, 32, 3)"
            ]
          },
          "metadata": {},
          "execution_count": 4
        }
      ],
      "source": [
        "x_train.shape"
      ],
      "id": "8a5e7405"
    },
    {
      "cell_type": "code",
      "execution_count": 5,
      "metadata": {
        "colab": {
          "base_uri": "https://localhost:8080/",
          "height": 283
        },
        "id": "9f7a5b46",
        "outputId": "f271704a-4ce8-4ffb-9d49-0c5ed9b836a8"
      },
      "outputs": [
        {
          "output_type": "execute_result",
          "data": {
            "text/plain": [
              "<matplotlib.image.AxesImage at 0x7f0299fec070>"
            ]
          },
          "metadata": {},
          "execution_count": 5
        },
        {
          "output_type": "display_data",
          "data": {
            "text/plain": [
              "<Figure size 432x288 with 1 Axes>"
            ],
            "image/png": "[encoded data removed]"
          },
          "metadata": {
            "needs_background": "light"
          }
        }
      ],
      "source": [
        "plt.imshow(x_train[2,:,:,:])"
      ],
      "id": "9f7a5b46"
    },
    {
      "cell_type": "code",
      "execution_count": 6,
      "metadata": {
        "id": "1b55ce85"
      },
      "outputs": [],
      "source": [
        "x_train, x_test = x_train/255.0, x_test/255.0"
      ],
      "id": "1b55ce85"
    },
    {
      "cell_type": "code",
      "source": [
        "#Create a base model from the pre-trained VGG model\n",
        "base_model = keras.applications.VGG16(weights=\"imagenet\", # Load weights pre-trained on ImageNet.\n",
        "                                      input_shape = (32,32,3),\n",
        "                                      include_top = False  # Do not include the ImageNet classifier at the top.\n",
        "                                      )\n",
        "\n",
        "ga_layer = keras.layers.GlobalAveragePooling2D()(base_model.output)\n",
        "ga_layer=keras.layers.Dropout(0.2)(ga_layer) # Regularize with dropout\n",
        "\n",
        "ga_layer=keras.layers.Dense(1024)(ga_layer)\n",
        "output = keras.layers.Dense(10, activation=\"softmax\")(ga_layer)\n",
        "model = keras.Model(inputs=base_model.input, outputs=output)\n",
        "# Freeze the base_model\n",
        "for layer in base_model.layers:\n",
        "  layer.trainable = False"
      ],
      "metadata": {
        "colab": {
          "base_uri": "https://localhost:8080/"
        },
        "id": "TpbPNz8eH5oZ",
        "outputId": "39dc4337-7f12-4626-c601-6611c974aa97"
      },
      "id": "TpbPNz8eH5oZ",
      "execution_count": 7,
      "outputs": [
        {
          "output_type": "stream",
          "name": "stdout",
          "text": [
            "Downloading data from https://storage.googleapis.com/tensorflow/keras-applications/vgg16/vgg16_weights_tf_dim_ordering_tf_kernels_notop.h5\n",
            "58889256/58889256 [==============================] - 0s 0us/step\n"
          ]
        }
      ]
    },
    {
      "cell_type": "code",
      "source": [
        "  model.summary()"
      ],
      "metadata": {
        "colab": {
          "base_uri": "https://localhost:8080/"
        },
        "id": "Kq5FqXasNqyy",
        "outputId": "c1d794b2-a88c-41be-8844-ee3f3c5df3a3"
      },
      "id": "Kq5FqXasNqyy",
      "execution_count": 8,
      "outputs": [
        {
          "output_type": "stream",
          "name": "stdout",
          "text": [
            "Model: \"model\"\n",
            "_________________________________________________________________\n",
            " Layer (type)                Output Shape              Param #   \n",
            "=================================================================\n",
            " input_1 (InputLayer)        [(None, 32, 32, 3)]       0         \n",
            "                                                                 \n",
            " block1_conv1 (Conv2D)       (None, 32, 32, 64)        1792      \n",
            "                                                                 \n",
            " block1_conv2 (Conv2D)       (None, 32, 32, 64)        36928     \n",
            "                                                                 \n",
            " block1_pool (MaxPooling2D)  (None, 16, 16, 64)        0         \n",
            "                                                                 \n",
            " block2_conv1 (Conv2D)       (None, 16, 16, 128)       73856     \n",
            "                                                                 \n",
            " block2_conv2 (Conv2D)       (None, 16, 16, 128)       147584    \n",
            "                                                                 \n",
            " block2_pool (MaxPooling2D)  (None, 8, 8, 128)         0         \n",
            "                                                                 \n",
            " block3_conv1 (Conv2D)       (None, 8, 8, 256)         295168    \n",
            "                                                                 \n",
            " block3_conv2 (Conv2D)       (None, 8, 8, 256)         590080    \n",
            "                                                                 \n",
            " block3_conv3 (Conv2D)       (None, 8, 8, 256)         590080    \n",
            "                                                                 \n",
            " block3_pool (MaxPooling2D)  (None, 4, 4, 256)         0         \n",
            "                                                                 \n",
            " block4_conv1 (Conv2D)       (None, 4, 4, 512)         1180160   \n",
            "                                                                 \n",
            " block4_conv2 (Conv2D)       (None, 4, 4, 512)         2359808   \n",
            "                                                                 \n",
            " block4_conv3 (Conv2D)       (None, 4, 4, 512)         2359808   \n",
            "                                                                 \n",
            " block4_pool (MaxPooling2D)  (None, 2, 2, 512)         0         \n",
            "                                                                 \n",
            " block5_conv1 (Conv2D)       (None, 2, 2, 512)         2359808   \n",
            "                                                                 \n",
            " block5_conv2 (Conv2D)       (None, 2, 2, 512)         2359808   \n",
            "                                                                 \n",
            " block5_conv3 (Conv2D)       (None, 2, 2, 512)         2359808   \n",
            "                                                                 \n",
            " block5_pool (MaxPooling2D)  (None, 1, 1, 512)         0         \n",
            "                                                                 \n",
            " global_average_pooling2d (G  (None, 512)              0         \n",
            " lobalAveragePooling2D)                                          \n",
            "                                                                 \n",
            " dropout (Dropout)           (None, 512)               0         \n",
            "                                                                 \n",
            " dense (Dense)               (None, 1024)              525312    \n",
            "                                                                 \n",
            " dense_1 (Dense)             (None, 10)                10250     \n",
            "                                                                 \n",
            "=================================================================\n",
            "Total params: 15,250,250\n",
            "Trainable params: 535,562\n",
            "Non-trainable params: 14,714,688\n",
            "_________________________________________________________________\n"
          ]
        }
      ]
    },
    {
      "cell_type": "code",
      "execution_count": null,
      "metadata": {
        "id": "9316415b"
      },
      "outputs": [],
      "source": [
        "#compile part\n",
        "model.compile(loss=\"sparse_categorical_crossentropy\",\n",
        "              optimizer=keras.optimizers.Adam(),\n",
        "              metrics=[\"accuracy\"])"
      ],
      "id": "9316415b"
    },
    {
      "cell_type": "code",
      "execution_count": null,
      "metadata": {
        "colab": {
          "base_uri": "https://localhost:8080/"
        },
        "id": "92c105e3",
        "outputId": "733fc6b2-8c92-477c-863d-67d0d81587c4"
      },
      "outputs": [
        {
          "name": "stdout",
          "output_type": "stream",
          "text": [
            "Epoch 1/5\n",
            "1329/1329 [==============================] - 508s 380ms/step - loss: 1.5214 - accuracy: 0.4697 - val_loss: 1.3559 - val_accuracy: 0.5299\n",
            "Epoch 2/5\n",
            "1329/1329 [==============================] - 498s 375ms/step - loss: 1.4265 - accuracy: 0.5009 - val_loss: 1.2963 - val_accuracy: 0.5513\n",
            "Epoch 3/5\n",
            "1329/1329 [==============================] - 497s 374ms/step - loss: 1.4143 - accuracy: 0.5093 - val_loss: 1.3181 - val_accuracy: 0.5413\n",
            "Epoch 4/5\n",
            "1329/1329 [==============================] - 504s 379ms/step - loss: 1.4038 - accuracy: 0.5091 - val_loss: 1.3129 - val_accuracy: 0.5463\n",
            "Epoch 5/5\n",
            "1329/1329 [==============================] - 557s 419ms/step - loss: 1.4000 - accuracy: 0.5106 - val_loss: 1.2795 - val_accuracy: 0.5576\n"
          ]
        }
      ],
      "source": [
        "#Train the model\n",
        "history=model.fit(x_train, y_train, epochs=5, validation_split=0.15)"
      ],
      "id": "92c105e3"
    },
    {
      "cell_type": "code",
      "execution_count": null,
      "metadata": {
        "colab": {
          "base_uri": "https://localhost:8080/"
        },
        "id": "bM1_Rh0ic41O",
        "outputId": "62cc49ef-b7bd-4ece-efab-4be7629e7383"
      },
      "outputs": [
        {
          "data": {
            "text/plain": [
              "dict_keys(['loss', 'accuracy', 'val_loss', 'val_accuracy'])"
            ]
          },
          "execution_count": 13,
          "metadata": {},
          "output_type": "execute_result"
        }
      ],
      "source": [
        "#items in history\n",
        "history.history.keys()"
      ],
      "id": "bM1_Rh0ic41O"
    },
    {
      "cell_type": "code",
      "execution_count": null,
      "metadata": {
        "colab": {
          "base_uri": "https://localhost:8080/",
          "height": 295
        },
        "id": "6GEwJZeuR4ZL",
        "outputId": "8104ea0c-ddc3-4e90-ec28-8e79bb96a97b"
      },
      "outputs": [
        {
          "data": {
            "image/png": "[encoded data removed]",
            "text/plain": [
              "<Figure size 432x288 with 1 Axes>"
            ]
          },
          "metadata": {},
          "output_type": "display_data"
        }
      ],
      "source": [
        "# summarize history for loss\n",
        "plt.plot(history.history['loss'])\n",
        "plt.plot(history.history['val_loss'])\n",
        "plt.title('model loss')\n",
        "plt.ylabel('loss')\n",
        "plt.xlabel('epoch')\n",
        "plt.legend(['train', 'test'], loc='upper left')\n",
        "plt.show()"
      ],
      "id": "6GEwJZeuR4ZL"
    },
    {
      "cell_type": "code",
      "execution_count": null,
      "metadata": {
        "colab": {
          "base_uri": "https://localhost:8080/",
          "height": 295
        },
        "id": "9EjQoj-wR8zV",
        "outputId": "c2baa5f2-19ec-4630-eb08-6da9285746ce"
      },
      "outputs": [
        {
          "data": {
            "image/png": "[encoded data removed]",
            "text/plain": [
              "<Figure size 432x288 with 1 Axes>"
            ]
          },
          "metadata": {},
          "output_type": "display_data"
        }
      ],
      "source": [
        "# summarize history for loss\n",
        "plt.plot(history.history['accuracy'])\n",
        "plt.plot(history.history['val_accuracy'])\n",
        "plt.title('model acc')\n",
        "plt.ylabel('acc')\n",
        "plt.xlabel('epoch')\n",
        "plt.legend(['train', 'test'], loc='upper left')\n",
        "plt.show()"
      ],
      "id": "9EjQoj-wR8zV"
    },
    {
      "cell_type": "code",
      "execution_count": null,
      "metadata": {
        "colab": {
          "base_uri": "https://localhost:8080/"
        },
        "id": "ebd23471",
        "outputId": "20e5f966-d869-42ec-b0f5-55050abca9c8"
      },
      "outputs": [
        {
          "name": "stdout",
          "output_type": "stream",
          "text": [
            "313/313 [==============================] - 101s 322ms/step - loss: 1.2961 - accuracy: 0.5501\n"
          ]
        },
        {
          "data": {
            "text/plain": [
              "[1.296080470085144, 0.5501000285148621]"
            ]
          },
          "execution_count": 15,
          "metadata": {},
          "output_type": "execute_result"
        }
      ],
      "source": [
        "#Model Evaluation on Test Dataset\n",
        "model.evaluate(x_test, y_test)"
      ],
      "id": "ebd23471"
    },
    {
      "cell_type": "code",
      "execution_count": null,
      "metadata": {
        "colab": {
          "base_uri": "https://localhost:8080/"
        },
        "id": "fcc407ef",
        "outputId": "09db3c14-72cb-4ff3-f936-de6e7d7afef3"
      },
      "outputs": [
        {
          "name": "stdout",
          "output_type": "stream",
          "text": [
            "313/313 [==============================] - 101s 321ms/step\n"
          ]
        }
      ],
      "source": [
        "#in case need to have predicted labels\n",
        "y_pred = model.predict(x_test)"
      ],
      "id": "fcc407ef"
    },
    {
      "cell_type": "code",
      "execution_count": null,
      "metadata": {
        "id": "def502d4"
      },
      "outputs": [],
      "source": [
        "y_pred=np.argmax(y_pred,axis=1)"
      ],
      "id": "def502d4"
    },
    {
      "cell_type": "code",
      "execution_count": null,
      "metadata": {
        "colab": {
          "base_uri": "https://localhost:8080/"
        },
        "id": "922c2ecf",
        "outputId": "fe706bbb-3799-4abb-8967-9173d2c595bc"
      },
      "outputs": [
        {
          "data": {
            "text/plain": [
              "0.5501"
            ]
          },
          "execution_count": 18,
          "metadata": {},
          "output_type": "execute_result"
        }
      ],
      "source": [
        "from sklearn.metrics import accuracy_score\n",
        "accuracy_score(y_test,y_pred)"
      ],
      "id": "922c2ecf"
    },
    {
      "cell_type": "markdown",
      "metadata": {
        "id": "q0GOIX0oZ0_2"
      },
      "source": [
        "## Fine-tuning the model\n",
        "The model can be improved by unfreezing the base model, and retraining it on a very low learning rate.\n",
        "\n",
        "You need to monitor this step because the wrong implementation can lead to overfitting. First, unfreeze the base model. Unfreeze the base_model. Note that it keeps running in inference mode since we passed training=False when calling it. This means that the batchnorm layers will not update their batch statistics. This prevents the batchnorm layers from undoing all the training we've done so far."
      ],
      "id": "q0GOIX0oZ0_2"
    },
    {
      "cell_type": "markdown",
      "metadata": {
        "id": "BXc64iKbaHNM"
      },
      "source": [
        "##Fine Tunning"
      ],
      "id": "BXc64iKbaHNM"
    },
    {
      "cell_type": "code",
      "execution_count": null,
      "metadata": {
        "colab": {
          "base_uri": "https://localhost:8080/"
        },
        "id": "c98b12e9",
        "outputId": "0afbcd06-5a26-4902-a2b9-1060eca9ae06"
      },
      "outputs": [
        {
          "name": "stdout",
          "output_type": "stream",
          "text": [
            "Model: \"model_1\"\n",
            "_________________________________________________________________\n",
            " Layer (type)                Output Shape              Param #   \n",
            "=================================================================\n",
            " input_2 (InputLayer)        [(None, 32, 32, 3)]       0         \n",
            "                                                                 \n",
            " block1_conv1 (Conv2D)       (None, 32, 32, 64)        1792      \n",
            "                                                                 \n",
            " block1_conv2 (Conv2D)       (None, 32, 32, 64)        36928     \n",
            "                                                                 \n",
            " block1_pool (MaxPooling2D)  (None, 16, 16, 64)        0         \n",
            "                                                                 \n",
            " block2_conv1 (Conv2D)       (None, 16, 16, 128)       73856     \n",
            "                                                                 \n",
            " block2_conv2 (Conv2D)       (None, 16, 16, 128)       147584    \n",
            "                                                                 \n",
            " block2_pool (MaxPooling2D)  (None, 8, 8, 128)         0         \n",
            "                                                                 \n",
            " block3_conv1 (Conv2D)       (None, 8, 8, 256)         295168    \n",
            "                                                                 \n",
            " block3_conv2 (Conv2D)       (None, 8, 8, 256)         590080    \n",
            "                                                                 \n",
            " block3_conv3 (Conv2D)       (None, 8, 8, 256)         590080    \n",
            "                                                                 \n",
            " block3_pool (MaxPooling2D)  (None, 4, 4, 256)         0         \n",
            "                                                                 \n",
            " block4_conv1 (Conv2D)       (None, 4, 4, 512)         1180160   \n",
            "                                                                 \n",
            " block4_conv2 (Conv2D)       (None, 4, 4, 512)         2359808   \n",
            "                                                                 \n",
            " block4_conv3 (Conv2D)       (None, 4, 4, 512)         2359808   \n",
            "                                                                 \n",
            " block4_pool (MaxPooling2D)  (None, 2, 2, 512)         0         \n",
            "                                                                 \n",
            " block5_conv1 (Conv2D)       (None, 2, 2, 512)         2359808   \n",
            "                                                                 \n",
            " block5_conv2 (Conv2D)       (None, 2, 2, 512)         2359808   \n",
            "                                                                 \n",
            " block5_conv3 (Conv2D)       (None, 2, 2, 512)         2359808   \n",
            "                                                                 \n",
            " block5_pool (MaxPooling2D)  (None, 1, 1, 512)         0         \n",
            "                                                                 \n",
            " global_average_pooling2d_1   (None, 512)              0         \n",
            " (GlobalAveragePooling2D)                                        \n",
            "                                                                 \n",
            " dropout_1 (Dropout)         (None, 512)               0         \n",
            "                                                                 \n",
            " dense_2 (Dense)             (None, 1024)              525312    \n",
            "                                                                 \n",
            " dense_3 (Dense)             (None, 10)                10250     \n",
            "                                                                 \n",
            "=================================================================\n",
            "Total params: 15,250,250\n",
            "Trainable params: 15,250,250\n",
            "Non-trainable params: 0\n",
            "_________________________________________________________________\n"
          ]
        }
      ],
      "source": [
        "#Fine-tuning the model\n",
        "base_model.trainable = True\n",
        "model.summary()"
      ],
      "id": "c98b12e9"
    },
    {
      "cell_type": "code",
      "execution_count": null,
      "metadata": {
        "id": "GPmuvWTUeomN"
      },
      "outputs": [],
      "source": [
        "#compile part\n",
        "model.compile(loss=\"sparse_categorical_crossentropy\",\n",
        "              optimizer=keras.optimizers.Adam(1e-5), # Low learning rate\n",
        "              metrics=[\"accuracy\"])"
      ],
      "id": "GPmuvWTUeomN"
    },
    {
      "cell_type": "code",
      "execution_count": null,
      "metadata": {
        "id": "PZeNdk-AS_o_"
      },
      "outputs": [],
      "source": [
        "#Callback\n",
        "model_checkpoint_callback=keras.callbacks.ModelCheckpoint(\"model\",save_best_only=True)"
      ],
      "id": "PZeNdk-AS_o_"
    },
    {
      "cell_type": "code",
      "execution_count": null,
      "metadata": {
        "colab": {
          "base_uri": "https://localhost:8080/"
        },
        "id": "Fl6QZHbcexjF",
        "outputId": "a7bd8640-e611-4f76-f9d6-08ab98f1a450"
      },
      "outputs": [
        {
          "name": "stdout",
          "output_type": "stream",
          "text": [
            "Epoch 1/5\n",
            "1329/1329 [==============================] - ETA: 0s - loss: 0.6233 - accuracy: 0.7818"
          ]
        },
        {
          "name": "stderr",
          "output_type": "stream",
          "text": [
            "WARNING:absl:Found untraced functions such as _jit_compiled_convolution_op, _jit_compiled_convolution_op, _jit_compiled_convolution_op, _jit_compiled_convolution_op, _jit_compiled_convolution_op while saving (showing 5 of 13). These functions will not be directly callable after loading.\n"
          ]
        },
        {
          "name": "stdout",
          "output_type": "stream",
          "text": [
            "\b\b\b\b\b\b\b\b\b\b\b\b\b\b\b\b\b\b\b\b\b\b\b\b\b\b\b\b\b\b\b\b\b\b\b\b\b\b\b\b\b\b\b\b\b\b\b\b\b\b\b\b\b\b\b\b\b\b\b\b\b\b\b\b\b\b\b\b\b\b\b\b\b\b\b\b\b\b\b\b\b\b\b\b\b\b\r1329/1329 [==============================] - 45s 33ms/step - loss: 0.6233 - accuracy: 0.7818 - val_loss: 0.6525 - val_accuracy: 0.7727\n",
            "Epoch 2/5\n",
            "1327/1329 [============================>.] - ETA: 0s - loss: 0.4857 - accuracy: 0.8280"
          ]
        },
        {
          "name": "stderr",
          "output_type": "stream",
          "text": [
            "WARNING:absl:Found untraced functions such as _jit_compiled_convolution_op, _jit_compiled_convolution_op, _jit_compiled_convolution_op, _jit_compiled_convolution_op, _jit_compiled_convolution_op while saving (showing 5 of 13). These functions will not be directly callable after loading.\n"
          ]
        },
        {
          "name": "stdout",
          "output_type": "stream",
          "text": [
            "\b\b\b\b\b\b\b\b\b\b\b\b\b\b\b\b\b\b\b\b\b\b\b\b\b\b\b\b\b\b\b\b\b\b\b\b\b\b\b\b\b\b\b\b\b\b\b\b\b\b\b\b\b\b\b\b\b\b\b\b\b\b\b\b\b\b\b\b\b\b\b\b\b\b\b\b\b\b\b\b\b\b\b\b\b\b\r1329/1329 [==============================] - 42s 32ms/step - loss: 0.4857 - accuracy: 0.8280 - val_loss: 0.5935 - val_accuracy: 0.7968\n",
            "Epoch 3/5\n",
            "1329/1329 [==============================] - 40s 30ms/step - loss: 0.3877 - accuracy: 0.8636 - val_loss: 0.6067 - val_accuracy: 0.7945\n",
            "Epoch 4/5\n",
            "1329/1329 [==============================] - 40s 30ms/step - loss: 0.3066 - accuracy: 0.8913 - val_loss: 0.5986 - val_accuracy: 0.8068\n",
            "Epoch 5/5\n",
            "1329/1329 [==============================] - 40s 30ms/step - loss: 0.2433 - accuracy: 0.9141 - val_loss: 0.5962 - val_accuracy: 0.8123\n"
          ]
        }
      ],
      "source": [
        "#Train the model\n",
        "history1=model.fit(x_train, y_train, epochs=5, validation_split=0.15,callbacks=[model_checkpoint_callback])"
      ],
      "id": "Fl6QZHbcexjF"
    },
    {
      "cell_type": "markdown",
      "metadata": {
        "id": "UrL8t9jIbrYs"
      },
      "source": [
        "## Fine Tunning\n",
        "### another approach"
      ],
      "id": "UrL8t9jIbrYs"
    },
    {
      "cell_type": "code",
      "execution_count": null,
      "metadata": {
        "colab": {
          "base_uri": "https://localhost:8080/"
        },
        "id": "PVYwjyaCbz_e",
        "outputId": "fb0cb20d-7081-44b8-d904-c36c27d7c938"
      },
      "outputs": [
        {
          "name": "stdout",
          "output_type": "stream",
          "text": [
            "Model: \"vgg16\"\n",
            "_________________________________________________________________\n",
            " Layer (type)                Output Shape              Param #   \n",
            "=================================================================\n",
            " input_2 (InputLayer)        [(None, 32, 32, 3)]       0         \n",
            "                                                                 \n",
            " block1_conv1 (Conv2D)       (None, 32, 32, 64)        1792      \n",
            "                                                                 \n",
            " block1_conv2 (Conv2D)       (None, 32, 32, 64)        36928     \n",
            "                                                                 \n",
            " block1_pool (MaxPooling2D)  (None, 16, 16, 64)        0         \n",
            "                                                                 \n",
            " block2_conv1 (Conv2D)       (None, 16, 16, 128)       73856     \n",
            "                                                                 \n",
            " block2_conv2 (Conv2D)       (None, 16, 16, 128)       147584    \n",
            "                                                                 \n",
            " block2_pool (MaxPooling2D)  (None, 8, 8, 128)         0         \n",
            "                                                                 \n",
            " block3_conv1 (Conv2D)       (None, 8, 8, 256)         295168    \n",
            "                                                                 \n",
            " block3_conv2 (Conv2D)       (None, 8, 8, 256)         590080    \n",
            "                                                                 \n",
            " block3_conv3 (Conv2D)       (None, 8, 8, 256)         590080    \n",
            "                                                                 \n",
            " block3_pool (MaxPooling2D)  (None, 4, 4, 256)         0         \n",
            "                                                                 \n",
            " block4_conv1 (Conv2D)       (None, 4, 4, 512)         1180160   \n",
            "                                                                 \n",
            " block4_conv2 (Conv2D)       (None, 4, 4, 512)         2359808   \n",
            "                                                                 \n",
            " block4_conv3 (Conv2D)       (None, 4, 4, 512)         2359808   \n",
            "                                                                 \n",
            " block4_pool (MaxPooling2D)  (None, 2, 2, 512)         0         \n",
            "                                                                 \n",
            " block5_conv1 (Conv2D)       (None, 2, 2, 512)         2359808   \n",
            "                                                                 \n",
            " block5_conv2 (Conv2D)       (None, 2, 2, 512)         2359808   \n",
            "                                                                 \n",
            " block5_conv3 (Conv2D)       (None, 2, 2, 512)         2359808   \n",
            "                                                                 \n",
            " block5_pool (MaxPooling2D)  (None, 1, 1, 512)         0         \n",
            "                                                                 \n",
            "=================================================================\n",
            "Total params: 14,714,688\n",
            "Trainable params: 14,714,688\n",
            "Non-trainable params: 0\n",
            "_________________________________________________________________\n"
          ]
        }
      ],
      "source": [
        "#Create a base model from the pre-trained VGG model\n",
        "base_model = keras.applications.VGG16(\n",
        "    weights=\"imagenet\",  # Load weights pre-trained on ImageNet.\n",
        "    input_shape=(32, 32, 3),\n",
        "    include_top=False,\n",
        ")  # Do not include the ImageNet classifier at the top.\n",
        "base_model.summary()"
      ],
      "id": "PVYwjyaCbz_e"
    },
    {
      "cell_type": "code",
      "execution_count": null,
      "metadata": {
        "id": "NS8lxeXWcCIa"
      },
      "outputs": [],
      "source": [
        "# Freeze the base_model\n",
        "set_trainable = False\n",
        "for lyr in base_model.layers:\n",
        "  if lyr.name == 'block5_conv1':\n",
        "    set_trainable = True\n",
        "  if set_trainable:\n",
        "    lyr.trainable = True\n",
        "  else:\n",
        "    lyr.trainable = False\n",
        "    "
      ],
      "id": "NS8lxeXWcCIa"
    },
    {
      "cell_type": "code",
      "execution_count": null,
      "metadata": {
        "colab": {
          "base_uri": "https://localhost:8080/"
        },
        "id": "0QvXPa5omjhH",
        "outputId": "feaf3f21-1b57-4f39-f530-51c0c1ba2f08"
      },
      "outputs": [
        {
          "name": "stdout",
          "output_type": "stream",
          "text": [
            "Model: \"vgg16\"\n",
            "_________________________________________________________________\n",
            " Layer (type)                Output Shape              Param #   \n",
            "=================================================================\n",
            " input_2 (InputLayer)        [(None, 32, 32, 3)]       0         \n",
            "                                                                 \n",
            " block1_conv1 (Conv2D)       (None, 32, 32, 64)        1792      \n",
            "                                                                 \n",
            " block1_conv2 (Conv2D)       (None, 32, 32, 64)        36928     \n",
            "                                                                 \n",
            " block1_pool (MaxPooling2D)  (None, 16, 16, 64)        0         \n",
            "                                                                 \n",
            " block2_conv1 (Conv2D)       (None, 16, 16, 128)       73856     \n",
            "                                                                 \n",
            " block2_conv2 (Conv2D)       (None, 16, 16, 128)       147584    \n",
            "                                                                 \n",
            " block2_pool (MaxPooling2D)  (None, 8, 8, 128)         0         \n",
            "                                                                 \n",
            " block3_conv1 (Conv2D)       (None, 8, 8, 256)         295168    \n",
            "                                                                 \n",
            " block3_conv2 (Conv2D)       (None, 8, 8, 256)         590080    \n",
            "                                                                 \n",
            " block3_conv3 (Conv2D)       (None, 8, 8, 256)         590080    \n",
            "                                                                 \n",
            " block3_pool (MaxPooling2D)  (None, 4, 4, 256)         0         \n",
            "                                                                 \n",
            " block4_conv1 (Conv2D)       (None, 4, 4, 512)         1180160   \n",
            "                                                                 \n",
            " block4_conv2 (Conv2D)       (None, 4, 4, 512)         2359808   \n",
            "                                                                 \n",
            " block4_conv3 (Conv2D)       (None, 4, 4, 512)         2359808   \n",
            "                                                                 \n",
            " block4_pool (MaxPooling2D)  (None, 2, 2, 512)         0         \n",
            "                                                                 \n",
            " block5_conv1 (Conv2D)       (None, 2, 2, 512)         2359808   \n",
            "                                                                 \n",
            " block5_conv2 (Conv2D)       (None, 2, 2, 512)         2359808   \n",
            "                                                                 \n",
            " block5_conv3 (Conv2D)       (None, 2, 2, 512)         2359808   \n",
            "                                                                 \n",
            " block5_pool (MaxPooling2D)  (None, 1, 1, 512)         0         \n",
            "                                                                 \n",
            "=================================================================\n",
            "Total params: 14,714,688\n",
            "Trainable params: 7,079,424\n",
            "Non-trainable params: 7,635,264\n",
            "_________________________________________________________________\n"
          ]
        }
      ],
      "source": [
        "base_model.summary()"
      ],
      "id": "0QvXPa5omjhH"
    },
    {
      "cell_type": "code",
      "execution_count": null,
      "metadata": {
        "colab": {
          "base_uri": "https://localhost:8080/"
        },
        "id": "AQxj1Fy4cRft",
        "outputId": "61b2e29a-ac19-4060-a37e-b986854ea6de"
      },
      "outputs": [
        {
          "name": "stdout",
          "output_type": "stream",
          "text": [
            "Model: \"model_1\"\n",
            "_________________________________________________________________\n",
            " Layer (type)                Output Shape              Param #   \n",
            "=================================================================\n",
            " input_2 (InputLayer)        [(None, 32, 32, 3)]       0         \n",
            "                                                                 \n",
            " block1_conv1 (Conv2D)       (None, 32, 32, 64)        1792      \n",
            "                                                                 \n",
            " block1_conv2 (Conv2D)       (None, 32, 32, 64)        36928     \n",
            "                                                                 \n",
            " block1_pool (MaxPooling2D)  (None, 16, 16, 64)        0         \n",
            "                                                                 \n",
            " block2_conv1 (Conv2D)       (None, 16, 16, 128)       73856     \n",
            "                                                                 \n",
            " block2_conv2 (Conv2D)       (None, 16, 16, 128)       147584    \n",
            "                                                                 \n",
            " block2_pool (MaxPooling2D)  (None, 8, 8, 128)         0         \n",
            "                                                                 \n",
            " block3_conv1 (Conv2D)       (None, 8, 8, 256)         295168    \n",
            "                                                                 \n",
            " block3_conv2 (Conv2D)       (None, 8, 8, 256)         590080    \n",
            "                                                                 \n",
            " block3_conv3 (Conv2D)       (None, 8, 8, 256)         590080    \n",
            "                                                                 \n",
            " block3_pool (MaxPooling2D)  (None, 4, 4, 256)         0         \n",
            "                                                                 \n",
            " block4_conv1 (Conv2D)       (None, 4, 4, 512)         1180160   \n",
            "                                                                 \n",
            " block4_conv2 (Conv2D)       (None, 4, 4, 512)         2359808   \n",
            "                                                                 \n",
            " block4_conv3 (Conv2D)       (None, 4, 4, 512)         2359808   \n",
            "                                                                 \n",
            " block4_pool (MaxPooling2D)  (None, 2, 2, 512)         0         \n",
            "                                                                 \n",
            " block5_conv1 (Conv2D)       (None, 2, 2, 512)         2359808   \n",
            "                                                                 \n",
            " block5_conv2 (Conv2D)       (None, 2, 2, 512)         2359808   \n",
            "                                                                 \n",
            " block5_conv3 (Conv2D)       (None, 2, 2, 512)         2359808   \n",
            "                                                                 \n",
            " block5_pool (MaxPooling2D)  (None, 1, 1, 512)         0         \n",
            "                                                                 \n",
            " global_average_pooling2d_1   (None, 512)              0         \n",
            " (GlobalAveragePooling2D)                                        \n",
            "                                                                 \n",
            " dropout_1 (Dropout)         (None, 512)               0         \n",
            "                                                                 \n",
            " dense_2 (Dense)             (None, 1024)              525312    \n",
            "                                                                 \n",
            " dense_3 (Dense)             (None, 10)                10250     \n",
            "                                                                 \n",
            "=================================================================\n",
            "Total params: 15,250,250\n",
            "Trainable params: 7,614,986\n",
            "Non-trainable params: 7,635,264\n",
            "_________________________________________________________________\n"
          ]
        }
      ],
      "source": [
        "#Create a base model from the pre-trained VGG model\n",
        "\n",
        "\n",
        "ga_layer = keras.layers.GlobalAveragePooling2D()(base_model.output)\n",
        "ga_layer=keras.layers.Dropout(0.2)(ga_layer) # Regularize with dropout\n",
        "\n",
        "ga_layer=keras.layers.Dense(1024)(ga_layer)\n",
        "output = keras.layers.Dense(10, activation=\"softmax\")(ga_layer)\n",
        "model = keras.Model(inputs=base_model.input, outputs=output)\n",
        "# Freeze the base_model\n",
        "#for layer in base_model.layers:\n",
        "  #layer.trainable = False\n",
        "model.summary()"
      ],
      "id": "AQxj1Fy4cRft"
    },
    {
      "cell_type": "code",
      "execution_count": null,
      "metadata": {
        "id": "sevx3UmhfXhk"
      },
      "outputs": [],
      "source": [
        "#compile part\n",
        "model.compile(loss=\"sparse_categorical_crossentropy\",\n",
        "              optimizer=keras.optimizers.Adam(1e-5), # Low learning rate\n",
        "              metrics=[\"accuracy\"])"
      ],
      "id": "sevx3UmhfXhk"
    },
    {
      "cell_type": "code",
      "execution_count": null,
      "metadata": {
        "id": "4ybtwKZqRXek"
      },
      "outputs": [],
      "source": [
        "#Callback\n",
        "model_checkpoint_callback=keras.callbacks.ModelCheckpoint(\"model\",save_best_only=True)"
      ],
      "id": "4ybtwKZqRXek"
    },
    {
      "cell_type": "code",
      "execution_count": null,
      "metadata": {
        "colab": {
          "background_save": true,
          "base_uri": "https://localhost:8080/"
        },
        "id": "YRZ4rbZZfg3F",
        "outputId": "6f5abeb4-b4ab-4477-9aa1-519024b030ed"
      },
      "outputs": [
        {
          "name": "stdout",
          "output_type": "stream",
          "text": [
            "Epoch 1/5\n",
            "1329/1329 [==============================] - 2198s 2s/step - loss: 1.2729 - accuracy: 0.5570 - val_loss: 0.9733 - val_accuracy: 0.6607\n",
            "Epoch 2/5\n",
            "1329/1329 [==============================] - 2000s 2s/step - loss: 0.9303 - accuracy: 0.6754 - val_loss: 0.8694 - val_accuracy: 0.6939\n",
            "Epoch 3/5\n",
            "1329/1329 [==============================] - 2090s 2s/step - loss: 0.8214 - accuracy: 0.7147 - val_loss: 0.8318 - val_accuracy: 0.7109\n",
            "Epoch 4/5\n",
            "1329/1329 [==============================] - 2494s 2s/step - loss: 0.7471 - accuracy: 0.7393 - val_loss: 0.7842 - val_accuracy: 0.7261\n",
            "Epoch 5/5\n",
            "1329/1329 [==============================] - 2125s 2s/step - loss: 0.6879 - accuracy: 0.7578 - val_loss: 0.7672 - val_accuracy: 0.7325\n"
          ]
        }
      ],
      "source": [
        "#Train the model\n",
        "history2=model.fit(x_train, y_train, epochs=5, validation_split=0.15,callbacks=[model_checkpoint_callback])"
      ],
      "id": "YRZ4rbZZfg3F"
    },
    {
      "cell_type": "code",
      "execution_count": null,
      "metadata": {
        "colab": {
          "base_uri": "https://localhost:8080/",
          "height": 295
        },
        "id": "JieTNKw5fsSz",
        "outputId": "cce1aee3-5676-4ca3-ee47-1329529089af"
      },
      "outputs": [
        {
          "data": {
            "image/png": "[encoded data removed]",
            "text/plain": [
              "<Figure size 432x288 with 1 Axes>"
            ]
          },
          "metadata": {},
          "output_type": "display_data"
        }
      ],
      "source": [
        "# summarize history for loss\n",
        "plt.plot(history2.history['loss'])\n",
        "plt.plot(history2.history['val_loss'])\n",
        "plt.title('model loss')\n",
        "plt.ylabel('loss')\n",
        "plt.xlabel('epoch')\n",
        "plt.legend(['train', 'test'], loc='upper left')\n",
        "plt.show()"
      ],
      "id": "JieTNKw5fsSz"
    },
    {
      "cell_type": "code",
      "execution_count": null,
      "metadata": {
        "colab": {
          "base_uri": "https://localhost:8080/",
          "height": 295
        },
        "id": "ZTFFqSQEgi7R",
        "outputId": "c24f7148-73af-48b7-c02d-4c6f8e7ff769"
      },
      "outputs": [
        {
          "data": {
            "image/png": "[encoded data removed]",
            "text/plain": [
              "<Figure size 432x288 with 1 Axes>"
            ]
          },
          "metadata": {},
          "output_type": "display_data"
        }
      ],
      "source": [
        "# summarize history for loss\n",
        "plt.plot(history2.history['accuracy'])\n",
        "plt.plot(history2.history['val_accuracy'])\n",
        "plt.title('model acc')\n",
        "plt.ylabel('acc')\n",
        "plt.xlabel('epoch')\n",
        "plt.legend(['train', 'test'], loc='upper left')\n",
        "plt.show()"
      ],
      "id": "ZTFFqSQEgi7R"
    },
    {
      "cell_type": "code",
      "execution_count": null,
      "metadata": {
        "id": "LYRuHcAfSv8g"
      },
      "outputs": [],
      "source": [],
      "id": "LYRuHcAfSv8g"
    }
  ],
  "metadata": {
    "colab": {
      "provenance": [],
      "include_colab_link": true
    },
    "gpuClass": "standard",
    "kernelspec": {
      "display_name": "Python 3",
      "language": "python",
      "name": "python3"
    },
    "language_info": {
      "codemirror_mode": {
        "name": "ipython",
        "version": 3
      },
      "file_extension": ".py",
      "mimetype": "text/x-python",
      "name": "python",
      "nbconvert_exporter": "python",
      "pygments_lexer": "ipython3",
      "version": "3.7.12"
    },
    "papermill": {
      "default_parameters": {},
      "duration": 3201.425451,
      "end_time": "2022-08-27T16:46:40.494317",
      "environment_variables": {},
      "exception": null,
      "input_path": "__notebook__.ipynb",
      "output_path": "__notebook__.ipynb",
      "parameters": {},
      "start_time": "2022-08-27T15:53:19.068866",
      "version": "2.3.4"
    }
  },
  "nbformat": 4,
  "nbformat_minor": 5
}